{
 "cells": [
  {
   "cell_type": "markdown",
   "metadata": {
    "id": "Ds5tHU-5hZKV"
   },
   "source": [
    "# Temas Tratados en el Trabajo Práctico 6\n",
    "\n",
    "* Modelado de problemas en espacios de estado.\n",
    "\n",
    "* Algoritmos de planificación hacia adelante y hacia atrás.\n",
    "\n",
    "* Representación y solución de problemas descritos en lenguaje STRIPS.\n",
    "\n",
    "* Algoritmo GRAPHPLAN.\n",
    "\n",
    "* Planificación con restricciones de tiempo y recursos.\n",
    "\n",
    "* Caminos críticos y tiempos de relajación.\n",
    "\n",
    "## Ejercicios Teóricos\n",
    "\n",
    "1. ¿En qué tipo de algoritmos se basa un planificador para encontrar el mejor camino a un estado solución?"
   ]
  },
  {
   "cell_type": "markdown",
   "metadata": {},
   "source": []
  },
  {
   "cell_type": "markdown",
   "metadata": {},
   "source": [
    "\n",
    "2. ¿Qué tres elementos se encuentran dentro de una acción formulada en lenguaje STRIPS? Describa brevemente qué función cumple cada uno."
   ]
  },
  {
   "cell_type": "markdown",
   "metadata": {},
   "source": []
  },
  {
   "cell_type": "markdown",
   "metadata": {},
   "source": [
    "3. Describa las ventajas y desventajas de desarrollar un algoritmo de planificación hacia adelante y hacia atrás en el espacio de estados.\n"
   ]
  },
  {
   "cell_type": "markdown",
   "metadata": {},
   "source": []
  },
  {
   "cell_type": "markdown",
   "metadata": {},
   "source": [
    "4. Considere el problema de ponerse uno mismo zapatos y medias. Aplique GRAPHPLAN a este problema y muestre la solución obtenida. Muestre el plan de orden parcial que es solución e indique cuántas linealizaciones diferentes existen para el plan de orden parcial."
   ]
  },
  {
   "cell_type": "markdown",
   "metadata": {},
   "source": []
  },
  {
   "cell_type": "markdown",
   "metadata": {},
   "source": [
    "5. Se requiere ensamblar una máquina cuyas piezas están identificadas con las letras A, B, C, D y E. El tiempo que se tarda en ensamblar cada pieza es:\n",
    "\n",
    "* A: 2 semanas\n",
    "\n",
    "* B: 1 semana\n",
    "\n",
    "* C: 4 semanas\n",
    "\n",
    "* D: 3 semanas\n",
    "\n",
    "* E: 5 semanas\n",
    "\n",
    "    El orden de ensamblaje de cada pieza requiere que:\n",
    "\n",
    "* A esté realizado antes que C\n",
    "\n",
    "* B esté realizado antes que C\n",
    "\n",
    "* B esté realizado antes que D\n",
    "\n",
    "* C esté realizado antes que E\n",
    "\n",
    "* D esté realizado antes que E\n",
    "\n",
    "    Con esta información:\n",
    "\n",
    "        5.1 Arme el Plan de Orden Parcial.\n",
    "\n",
    "        5.2 Encuentre el Camino Crítico.\n",
    "\n",
    "        5.3 Encuentre los tiempos de relajación.\n",
    "\n",
    "        5.4 Dibuje un diagrama temporal indicando las tareas y los tiempos de relajación encontrados."
   ]
  },
  {
   "cell_type": "markdown",
   "metadata": {},
   "source": []
  },
  {
   "cell_type": "markdown",
   "metadata": {},
   "source": [
    "## Ejercicios de Implementación\n",
    "\n",
    "6. Suponga que tiene un robot de oficina capaz de moverse y tomar y depositar objetos. El robot solo puede tener un objeto a la vez, pero puede conseguir una *caja* en la que depositar varios objetos. Suponga que programa al robot para *ir a la tienda* a comprarle un *café* y en el camino de vuelta tome una *carta* del *buzón* de la oficina para para que se la traiga junto con el café. Describa en lenguaje STRIPS:\n",
    "\n",
    "        6.1 El dominio del robot (nombre, predicados y acciones que puede hacer el robot).\n",
    "\n",
    "        6.2 El problema que se quiere resolver (estado inicial, estado objetivo y objetos del mundo representados).\n",
    "\n",
    "        6.3 Introduzca el código desarrollado en los puntos anteriores en el [planificador online](http://lcas.lincoln.ac.uk/fast-downward/) y obtenga el plan de acción que tomará el robot para cumplir lo solicitado."
   ]
  },
  {
   "cell_type": "code",
   "execution_count": null,
   "metadata": {
    "vscode": {
     "languageId": "plaintext"
    }
   },
   "outputs": [],
   "source": []
  },
  {
   "cell_type": "markdown",
   "metadata": {},
   "source": [
    "\n",
    "# Bibliografía\n",
    "\n",
    "[Russell, S. & Norvig, P. (2004) _Inteligencia Artificial: Un Enfoque Moderno_. Pearson Educación S.A. (2a Ed.) Madrid, España](https://www.academia.edu/8241613/Inteligencia_Aritificial_Un_Enfoque_Moderno_2da_Edici%C3%B3n_Stuart_J_Russell_y_Peter_Norvig)\n",
    "\n",
    "[Poole, D. & Mackworth, A. (2023) _Artificial Intelligence: Foundations of Computational Agents_. Cambridge University Press (3a Ed.) Vancouver, Canada](https://artint.info/3e/html/ArtInt3e.html)"
   ]
  }
 ],
 "metadata": {
  "colab": {
   "authorship_tag": "ABX9TyNkaY83TIo2vj0VLym+xt9a",
   "provenance": []
  },
  "kernelspec": {
   "display_name": "Python 3",
   "name": "python3"
  },
  "language_info": {
   "name": "python"
  }
 },
 "nbformat": 4,
 "nbformat_minor": 0
}
