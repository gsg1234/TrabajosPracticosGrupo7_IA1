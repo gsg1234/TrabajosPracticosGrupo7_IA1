{
  "cells": [
    {
      "attachments": {},
      "cell_type": "markdown",
      "metadata": {
        "id": "jWUX78DM7n9T"
      },
      "source": [
        "# Temas Tratados en el Trabajo Práctico 1\n",
        "\n",
        "* Diferencia entre Inteligencia e Inteligencia Artificial.\n",
        "\n",
        "* Concepto de omnisciencia, aprendizaje y autonomía.\n",
        "\n",
        "* Definición de Agente y sus características. Clasificación de Agentes según su estructura.\n",
        "\n",
        "* Identificación y categorización del Entorno de Trabajo en tabla REAS.\n",
        "\n",
        "* Caracterización del Entorno de Trabajo.\n",
        "\n",
        "# Anotaciones\n",
        "\n",
        "\"Acordarse de la definición de agente\""
      ]
    },
    {
      "cell_type": "markdown",
      "metadata": {},
      "source": [
        "# Ejercicios Teóricos\n",
        "\n",
        "1. Defina con sus propias palabras inteligencia natural, inteligencia artificial y agente."
      ]
    },
    {
      "cell_type": "markdown",
      "metadata": {},
      "source": [
        "Inteligencia natural es la inteligencia que posee el ser humano, es creativa, esta basada tanto en experiencias como emociones. La inteligencia artificial por otra parte es la inteligencia asociada a los agentes inteligentes creados por el ser humano. Un agente es todo aquel dispositivo o software que puede percibir el entorno y presenta un cierto nivel de inteligencia."
      ]
    },
    {
      "cell_type": "markdown",
      "metadata": {},
      "source": [
        "\n",
        "2. ¿Qué es un agente racional?"
      ]
    },
    {
      "cell_type": "markdown",
      "metadata": {},
      "source": [
        "Un agente racional es aquel que, para cada secuencia de percepciones que recibe de su entorno, elige la acción que maximiza su medida de rendimiento, basándose en la información provista por esas percepciones, el conocimiento que ya tiene sobre el mundo y las acciones que puede realizar."
      ]
    },
    {
      "cell_type": "markdown",
      "metadata": {},
      "source": [
        "3. ¿Un agente es siempre una computadora?"
      ]
    },
    {
      "cell_type": "markdown",
      "metadata": {},
      "source": [
        "No necesariamente. Decimos que un agente cualquier cosa que tenga cierto nivel de inteligencia, es decir, que reconozca estimulos del entorno y a partir de estos responda en consecuencia"
      ]
    },
    {
      "cell_type": "markdown",
      "metadata": {},
      "source": [
        "4. Defina Omnisciencia, Aprendizaje y Autonomía."
      ]
    },
    {
      "cell_type": "markdown",
      "metadata": {},
      "source": [
        "Omniscinecia: Es la capacidad de conocer el estado real y completo del entorno en todo momento. Es un ideal teórico: ningún agente real puede ser completamente omnisciente, porque el mundo es complejo, dinámico y con información oculta.\n",
        "\n",
        "Aprendizaje: Es la capacidad de mejorar su rendimiento con la experiencia. Un agente que aprende utiliza sus percepciones no solo para actuar, sino también para ajustar su forma de actuar en el futuro. Detecta patrones, predice consecuencias y optimiza decisiones con el tiempo.\n",
        "\n",
        "Autonomía: Mide cuánto dependen las acciones del agente de su propia experiencia frente a depender de conocimiento dado de antemano por el diseñador"
      ]
    },
    {
      "cell_type": "markdown",
      "metadata": {},
      "source": [
        "5. Defina cada tipo de agente en función de su **estructura** y dé un ejemplo de cada categoría."
      ]
    },
    {
      "cell_type": "markdown",
      "metadata": {},
      "source": [
        "Agentes reactivos:\n",
        "\n",
        "Agentes basados en objetivos:\n",
        "\n",
        "Agentes que aprenden:"
      ]
    },
    {
      "cell_type": "markdown",
      "metadata": {},
      "source": [
        "6. Para los siguientes entornos de trabajo indique sus **propiedades**:\n",
        "\n",
        "        a. Una partida de ajedrez.\n",
        "\n",
        "        b. Un partido de baloncesto.\n",
        "\n",
        "        c. El juego Pacman.\n",
        "\n",
        "        d. El truco.\n",
        "\n",
        "        e. Las damas.\n",
        "\n",
        "        f. El juego tres en raya.\n",
        "\n",
        "        g. Un jugador de Pokémon Go.\n",
        "\n",
        "        h. Un robot explorador autónomo de Marte."
      ]
    },
    {
      "cell_type": "markdown",
      "metadata": {},
      "source": [
        "Una partida de ajedrez:\n",
        "\n",
        "Un partido de baloncesto:\n",
        "\n",
        "El juego de pacman:\n",
        "\n",
        "El truco:\n",
        "\n",
        "Las damas:\n",
        "\n",
        "El juego tres en raya:\n",
        "\n",
        "Un jugador de Pokemon Go:\n",
        "\n",
        "Un robot explorador autónomo de marte:\n"
      ]
    },
    {
      "cell_type": "markdown",
      "metadata": {},
      "source": [
        "7. Elabore una tabla REAS para los siguientes entornos de trabajo:\n",
        "\n",
        "        a. Crucigrama.\n",
        "\n",
        "        b. Taxi circulando.\n",
        "\n",
        "        c. Robot clasificador de piezas."
      ]
    },
    {
      "cell_type": "markdown",
      "metadata": {},
      "source": [
        "    | Nombre | Edad | Ciudad |\n",
        "    |---|---|---|\n",
        "    | Juan | 30 | Madrid |\n",
        "    | Maria | 25 | Barcelona |"
      ]
    },
    {
      "cell_type": "markdown",
      "metadata": {},
      "source": [
        "# Ejercicios Prácticos\n",
        "\n",
        "8. La Hormiga de Langton es un agente capaz de modificar el estado de la casilla en la que se encuentra para colorearla o bien de blanco o de negro. Al comenzar, la ubicación de la hormiga es una casilla aleatoria y mira hacia una de las cuatro casillas adyacentes. Si...\n",
        "\n",
        "* ... la casilla sobre la que está es blanca, cambia el color del cuadrado, gira noventa grados a la derecha y avanza un cuadrado.\n",
        "\n",
        "* ... la casilla sobre la que está es negra, cambia el color del cuadrado, gira noventa grados a la izquierda y avanza un cuadrado.\n",
        "\n",
        "    Caracterice el agente con su tabla REAS y las propiedades del entorno para después programarlo en Python:\n",
        "\n",
        "    ¿Observa que se repite algún patrón? De ser así, ¿a partir de qué iteración?"
      ]
    },
    {
      "cell_type": "code",
      "execution_count": null,
      "metadata": {
        "vscode": {
          "languageId": "plaintext"
        }
      },
      "outputs": [],
      "source": []
    },
    {
      "cell_type": "markdown",
      "metadata": {},
      "source": [
        "9. El Juego de la Vida de Conway consiste en un tablero donde cada casilla representa una célula, de manera que a cada célula le rodean 8 vecinas. Las células tienen dos estados: están *vivas* o *muertas*. En cada iteración, el estado de todas las células se tiene en cuenta para calcular el estado siguiente en simultáneo de acuerdo a las siguientes acciones:\n",
        "\n",
        "* Nacer: Si una célula muerta tiene exactamente 3 células vecinas vivas, dicha célula pasa a estar viva.\n",
        "\n",
        "* Morir: Una célula viva puede morir sobrepoblación cuando tiene más de tres vecinos alrededor o por aislamiento si tiene solo un vecino o ninguno.\n",
        "\n",
        "* Vivir: una célula se mantiene viva si tiene 2 o 3 vecinos a su alrededor.\n",
        "\n",
        "    Caracterice el agente con su tabla REAS y las propiedades del entorno para después programarlo en Python:"
      ]
    },
    {
      "cell_type": "code",
      "execution_count": null,
      "metadata": {
        "vscode": {
          "languageId": "plaintext"
        }
      },
      "outputs": [],
      "source": [
        "hola"
      ]
    },
    {
      "attachments": {},
      "cell_type": "markdown",
      "metadata": {
        "id": "oXcAF__NmgG5"
      },
      "source": [
        "# Bibliografía\n",
        "\n",
        "[Russell, S. & Norvig, P. (2004) _Inteligencia Artificial: Un Enfoque Moderno_. Pearson Educación S.A. (2a Ed.) Madrid, España](https://www.academia.edu/8241613/Inteligencia_Aritificial_Un_Enfoque_Moderno_2da_Edici%C3%B3n_Stuart_J_Russell_y_Peter_Norvig)\n",
        "\n",
        "[Poole, D. & Mackworth, A. (2023) _Artificial Intelligence: Foundations of Computational Agents_. Cambridge University Press (3a Ed.) Vancouver, Canada](https://artint.info/3e/html/ArtInt3e.html)"
      ]
    }
  ],
  "metadata": {
    "colab": {
      "provenance": []
    },
    "kernelspec": {
      "display_name": "Python 3",
      "name": "python3"
    },
    "language_info": {
      "name": "python"
    }
  },
  "nbformat": 4,
  "nbformat_minor": 0
}
